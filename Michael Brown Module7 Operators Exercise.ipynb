{
 "cells": [
  {
   "cell_type": "markdown",
   "metadata": {},
   "source": [
    "### Exercise 1\n",
    "Ask a user to enter a number. If the number is positive, print <b>Positive number</b>. Otherwise, do not print any message. Finally, print 'goodbye' message at the end."
   ]
  },
  {
   "cell_type": "code",
   "execution_count": 4,
   "metadata": {},
   "outputs": [
    {
     "name": "stdin",
     "output_type": "stream",
     "text": [
      "give me a number:  5\n"
     ]
    }
   ],
   "source": [
    "num1 = int(input(\"give me a number: \"))"
   ]
  },
  {
   "cell_type": "code",
   "execution_count": 5,
   "metadata": {},
   "outputs": [
    {
     "name": "stdout",
     "output_type": "stream",
     "text": [
      "Thats a positive number! Wow\n",
      "goodbye\n"
     ]
    }
   ],
   "source": [
    "if num1 > 0:\n",
    "    print(\"Thats a positive number! Wow\")\n",
    "print(\"goodbye\")"
   ]
  },
  {
   "cell_type": "markdown",
   "metadata": {},
   "source": [
    "### Exercise 2\n",
    "Ask for a code and store that answer. \n",
    "If the answer is grey then print out if you found secret code.\n",
    "Otherwise print out the code is not the secret code."
   ]
  },
  {
   "cell_type": "code",
   "execution_count": 9,
   "metadata": {},
   "outputs": [
    {
     "name": "stdin",
     "output_type": "stream",
     "text": [
      "Passcode?:  grey\n"
     ]
    }
   ],
   "source": [
    "user_code = input(\"Passcode?: \")"
   ]
  },
  {
   "cell_type": "code",
   "execution_count": 14,
   "metadata": {},
   "outputs": [
    {
     "name": "stdout",
     "output_type": "stream",
     "text": [
      "That's the code.\n"
     ]
    }
   ],
   "source": [
    "if \"grey\" in user_code:\n",
    "    print(\"That's the code.\")\n",
    "else:\n",
    "    print(\"That's not the code\")"
   ]
  },
  {
   "cell_type": "markdown",
   "metadata": {},
   "source": [
    "### Exercise 3\n",
    "\n",
    "Ask a user to enter a phrase. If the word contains a number, display the \"Number found\" message. Otherwise, show the \"Number not found\" message. "
   ]
  },
  {
   "cell_type": "code",
   "execution_count": 23,
   "metadata": {},
   "outputs": [
    {
     "name": "stdin",
     "output_type": "stream",
     "text": [
      "Enter a phrase:  56\n"
     ]
    }
   ],
   "source": [
    "user_phrase = input(\"Enter a phrase: \")"
   ]
  },
  {
   "cell_type": "code",
   "execution_count": 24,
   "metadata": {},
   "outputs": [
    {
     "name": "stdout",
     "output_type": "stream",
     "text": [
      "contains a digit\n"
     ]
    }
   ],
   "source": [
    "if user_phrase.isdigit():    # doesn't work if contains char \n",
    "    print(\"contains a digit\")\n",
    "else:\n",
    "    print(\"doesn't  contain digit\")"
   ]
  },
  {
   "cell_type": "markdown",
   "metadata": {},
   "source": [
    "### Exercise 4\n",
    "\n",
    "Ask a user to enter a number. Then, only if the number is divisible by 2 and 3, show the result of the number divided by two and three in a formated string. The output should look something like this:\n",
    "        \n",
    "    Enter a number: 2\n",
    "    Bye    \n",
    "    \n",
    "    Enter a number: 60\n",
    "    60 / 2 = 30.0\n",
    "    60 / 3 = 20.0\n",
    "    Bye\n",
    "    \n",
    "    Enter a number: 3\n",
    "    Bye\n",
    "    \n",
    "    Enter a number: 10\n",
    "    Bye    "
   ]
  },
  {
   "cell_type": "code",
   "execution_count": 25,
   "metadata": {},
   "outputs": [
    {
     "name": "stdin",
     "output_type": "stream",
     "text": [
      "Number please:  60\n"
     ]
    },
    {
     "name": "stdout",
     "output_type": "stream",
     "text": [
      "60 / 2 = 30.0\n",
      "60 / 3 = 20.0\n",
      "bye\n"
     ]
    }
   ],
   "source": [
    "# fizzbuzz??.. ahh not quite\n",
    "\n",
    "numnum = int(input(\"Number please: \"))\n",
    "if (numnum % 2 == 0) and (numnum % 3 == 0):\n",
    "    print(f\"{numnum} / 2 = {numnum/2}\\n{numnum} / 3 = {numnum/3}\")\n",
    "print(\"bye\")\n",
    "    \n"
   ]
  },
  {
   "cell_type": "code",
   "execution_count": null,
   "metadata": {},
   "outputs": [],
   "source": []
  },
  {
   "cell_type": "markdown",
   "metadata": {},
   "source": [
    "### Exercise 5\n",
    "Ask a user to enter a number. Determine if the number is zero, positive or negative. Use only <b>if</b> and <b>else</b> statements. \n",
    "    "
   ]
  },
  {
   "cell_type": "code",
   "execution_count": 29,
   "metadata": {},
   "outputs": [
    {
     "name": "stdin",
     "output_type": "stream",
     "text": [
      "number please:  0\n"
     ]
    },
    {
     "name": "stdout",
     "output_type": "stream",
     "text": [
      "0\n"
     ]
    }
   ],
   "source": [
    "num_again = int(input(\"number please: \"))\n",
    "if num_again == 0:\n",
    "    print(\"0\")\n",
    "elif num_again > 0:\n",
    "    print(\"+\")\n",
    "else:\n",
    "    print(\"-\")"
   ]
  },
  {
   "cell_type": "code",
   "execution_count": null,
   "metadata": {},
   "outputs": [],
   "source": []
  }
 ],
 "metadata": {
  "kernelspec": {
   "display_name": "Python 3 (ipykernel)",
   "language": "python",
   "name": "python3"
  },
  "language_info": {
   "codemirror_mode": {
    "name": "ipython",
    "version": 3
   },
   "file_extension": ".py",
   "mimetype": "text/x-python",
   "name": "python",
   "nbconvert_exporter": "python",
   "pygments_lexer": "ipython3",
   "version": "3.12.2"
  }
 },
 "nbformat": 4,
 "nbformat_minor": 4
}
